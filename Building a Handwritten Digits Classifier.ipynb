{
 "cells": [
  {
   "cell_type": "markdown",
   "id": "9757c9f4",
   "metadata": {},
   "source": [
    "# Building a Handwritten Digits Classifier\n",
    "\n",
    "Our **goal in this project** is to explore and understand the challenging task of image classification. We want to observe the limitations of traditional Machine Learning (ML) models, then train, test, and improve some **Deep Neural Networks (DNN)** for **image classification.**\n",
    "\n",
    "[This is a link to the brief history of DNNs.]('https://arxiv.org/pdf/1803.01164.pdf')\n",
    "\n",
    "## Why is Image Classification a hard task?\n",
    "\n",
    "Within the field of machine learning and pattern recognition, image classification (especially for handwritten text) is towards the difficult end of the spectrum. There are a few reasons for this.\n",
    "\n",
    "First, each image in a training set is high dimensional. Each pixel in an image is a feature and a separate column. This means that a 128 x 128 image has 16384 features.\n",
    "\n",
    "Second, images are often downsampled to lower resolutions and transformed to grayscale (no color). This is a limitation of compute power unfortunately. The resolution of a 8 megapixel photo has 3264 by 2448 pixels, for a total of 7,990,272 features (or about 8 million). Images of this resolution are usually scaled down to between 128 and 512 pixels in either direction for significantly faster processing. This often results in a loss of detail that's available for training and pattern matching.\n",
    "\n",
    "Third, the features in an image don't have an obvious linear or nonlinear relationship that can be learned with a model like linear or logistic regression. In grayscale, each pixel is just represented as a brightness value ranging from 0 to 256. \n",
    "\n",
    "**In this Project, we'll explore the effectiveness of deep, feedforward neural networks at classifying images.**\n",
    "\n",
    "## Working with image data\n",
    "\n",
    "In the **Scikit-Learn** library there are a number of pre-loaded datasets. The *load_digits()* function returns a copy of the [Hand-written Digits dataset]('http://archive.ics.uci.edu/ml/datasets/Optical+Recognition+of+Handwritten+Digits') from University of California, Irvine.\n",
    "\n",
    "Because dataframes are a tabular representation of data, each image is represented as a row of pixel values. To visualize an image from the dataframe, we need to reshape the image back to its original dimensions (28 x 28 pixels). To visualize the image, we need to reshape these pixel values back into the 28 by 28 and plot them on a coordinate grid."
   ]
  },
  {
   "cell_type": "code",
   "execution_count": 1,
   "id": "8c530a0a",
   "metadata": {},
   "outputs": [],
   "source": [
    "import numpy as np\n",
    "import pandas as pd\n",
    "from sklearn.datasets import load_digits\n",
    "import matplotlib.pyplot as plt\n",
    "%matplotlib inline\n",
    "from sklearn.linear_model import LogisticRegression\n",
    "from sklearn.neighbors import KNeighborsClassifier\n",
    "from sklearn.neural_network import MLPClassifier\n",
    "from sklearn.model_selection import cross_validate, KFold\n",
    "from sklearn.metrics import accuracy_score\n",
    "\n",
    "data = load_digits(as_frame=True)\n",
    "imgs = data.data\n",
    "target = data.target"
   ]
  },
  {
   "cell_type": "code",
   "execution_count": 2,
   "id": "cf8bb458",
   "metadata": {},
   "outputs": [
    {
     "name": "stdout",
     "output_type": "stream",
     "text": [
      "(1797, 64) \n",
      "\n"
     ]
    },
    {
     "data": {
      "text/html": [
       "<div>\n",
       "<style scoped>\n",
       "    .dataframe tbody tr th:only-of-type {\n",
       "        vertical-align: middle;\n",
       "    }\n",
       "\n",
       "    .dataframe tbody tr th {\n",
       "        vertical-align: top;\n",
       "    }\n",
       "\n",
       "    .dataframe thead th {\n",
       "        text-align: right;\n",
       "    }\n",
       "</style>\n",
       "<table border=\"1\" class=\"dataframe\">\n",
       "  <thead>\n",
       "    <tr style=\"text-align: right;\">\n",
       "      <th></th>\n",
       "      <th>pixel_0_0</th>\n",
       "      <th>pixel_0_1</th>\n",
       "      <th>pixel_0_2</th>\n",
       "      <th>pixel_0_3</th>\n",
       "      <th>pixel_0_4</th>\n",
       "      <th>pixel_0_5</th>\n",
       "      <th>pixel_0_6</th>\n",
       "      <th>pixel_0_7</th>\n",
       "      <th>pixel_1_0</th>\n",
       "      <th>pixel_1_1</th>\n",
       "      <th>...</th>\n",
       "      <th>pixel_6_6</th>\n",
       "      <th>pixel_6_7</th>\n",
       "      <th>pixel_7_0</th>\n",
       "      <th>pixel_7_1</th>\n",
       "      <th>pixel_7_2</th>\n",
       "      <th>pixel_7_3</th>\n",
       "      <th>pixel_7_4</th>\n",
       "      <th>pixel_7_5</th>\n",
       "      <th>pixel_7_6</th>\n",
       "      <th>pixel_7_7</th>\n",
       "    </tr>\n",
       "  </thead>\n",
       "  <tbody>\n",
       "    <tr>\n",
       "      <th>0</th>\n",
       "      <td>0.0</td>\n",
       "      <td>0.0</td>\n",
       "      <td>5.0</td>\n",
       "      <td>13.0</td>\n",
       "      <td>9.0</td>\n",
       "      <td>1.0</td>\n",
       "      <td>0.0</td>\n",
       "      <td>0.0</td>\n",
       "      <td>0.0</td>\n",
       "      <td>0.0</td>\n",
       "      <td>...</td>\n",
       "      <td>0.0</td>\n",
       "      <td>0.0</td>\n",
       "      <td>0.0</td>\n",
       "      <td>0.0</td>\n",
       "      <td>6.0</td>\n",
       "      <td>13.0</td>\n",
       "      <td>10.0</td>\n",
       "      <td>0.0</td>\n",
       "      <td>0.0</td>\n",
       "      <td>0.0</td>\n",
       "    </tr>\n",
       "    <tr>\n",
       "      <th>1</th>\n",
       "      <td>0.0</td>\n",
       "      <td>0.0</td>\n",
       "      <td>0.0</td>\n",
       "      <td>12.0</td>\n",
       "      <td>13.0</td>\n",
       "      <td>5.0</td>\n",
       "      <td>0.0</td>\n",
       "      <td>0.0</td>\n",
       "      <td>0.0</td>\n",
       "      <td>0.0</td>\n",
       "      <td>...</td>\n",
       "      <td>0.0</td>\n",
       "      <td>0.0</td>\n",
       "      <td>0.0</td>\n",
       "      <td>0.0</td>\n",
       "      <td>0.0</td>\n",
       "      <td>11.0</td>\n",
       "      <td>16.0</td>\n",
       "      <td>10.0</td>\n",
       "      <td>0.0</td>\n",
       "      <td>0.0</td>\n",
       "    </tr>\n",
       "    <tr>\n",
       "      <th>2</th>\n",
       "      <td>0.0</td>\n",
       "      <td>0.0</td>\n",
       "      <td>0.0</td>\n",
       "      <td>4.0</td>\n",
       "      <td>15.0</td>\n",
       "      <td>12.0</td>\n",
       "      <td>0.0</td>\n",
       "      <td>0.0</td>\n",
       "      <td>0.0</td>\n",
       "      <td>0.0</td>\n",
       "      <td>...</td>\n",
       "      <td>5.0</td>\n",
       "      <td>0.0</td>\n",
       "      <td>0.0</td>\n",
       "      <td>0.0</td>\n",
       "      <td>0.0</td>\n",
       "      <td>3.0</td>\n",
       "      <td>11.0</td>\n",
       "      <td>16.0</td>\n",
       "      <td>9.0</td>\n",
       "      <td>0.0</td>\n",
       "    </tr>\n",
       "    <tr>\n",
       "      <th>3</th>\n",
       "      <td>0.0</td>\n",
       "      <td>0.0</td>\n",
       "      <td>7.0</td>\n",
       "      <td>15.0</td>\n",
       "      <td>13.0</td>\n",
       "      <td>1.0</td>\n",
       "      <td>0.0</td>\n",
       "      <td>0.0</td>\n",
       "      <td>0.0</td>\n",
       "      <td>8.0</td>\n",
       "      <td>...</td>\n",
       "      <td>9.0</td>\n",
       "      <td>0.0</td>\n",
       "      <td>0.0</td>\n",
       "      <td>0.0</td>\n",
       "      <td>7.0</td>\n",
       "      <td>13.0</td>\n",
       "      <td>13.0</td>\n",
       "      <td>9.0</td>\n",
       "      <td>0.0</td>\n",
       "      <td>0.0</td>\n",
       "    </tr>\n",
       "    <tr>\n",
       "      <th>4</th>\n",
       "      <td>0.0</td>\n",
       "      <td>0.0</td>\n",
       "      <td>0.0</td>\n",
       "      <td>1.0</td>\n",
       "      <td>11.0</td>\n",
       "      <td>0.0</td>\n",
       "      <td>0.0</td>\n",
       "      <td>0.0</td>\n",
       "      <td>0.0</td>\n",
       "      <td>0.0</td>\n",
       "      <td>...</td>\n",
       "      <td>0.0</td>\n",
       "      <td>0.0</td>\n",
       "      <td>0.0</td>\n",
       "      <td>0.0</td>\n",
       "      <td>0.0</td>\n",
       "      <td>2.0</td>\n",
       "      <td>16.0</td>\n",
       "      <td>4.0</td>\n",
       "      <td>0.0</td>\n",
       "      <td>0.0</td>\n",
       "    </tr>\n",
       "  </tbody>\n",
       "</table>\n",
       "<p>5 rows × 64 columns</p>\n",
       "</div>"
      ],
      "text/plain": [
       "   pixel_0_0  pixel_0_1  pixel_0_2  pixel_0_3  pixel_0_4  pixel_0_5  \\\n",
       "0        0.0        0.0        5.0       13.0        9.0        1.0   \n",
       "1        0.0        0.0        0.0       12.0       13.0        5.0   \n",
       "2        0.0        0.0        0.0        4.0       15.0       12.0   \n",
       "3        0.0        0.0        7.0       15.0       13.0        1.0   \n",
       "4        0.0        0.0        0.0        1.0       11.0        0.0   \n",
       "\n",
       "   pixel_0_6  pixel_0_7  pixel_1_0  pixel_1_1  ...  pixel_6_6  pixel_6_7  \\\n",
       "0        0.0        0.0        0.0        0.0  ...        0.0        0.0   \n",
       "1        0.0        0.0        0.0        0.0  ...        0.0        0.0   \n",
       "2        0.0        0.0        0.0        0.0  ...        5.0        0.0   \n",
       "3        0.0        0.0        0.0        8.0  ...        9.0        0.0   \n",
       "4        0.0        0.0        0.0        0.0  ...        0.0        0.0   \n",
       "\n",
       "   pixel_7_0  pixel_7_1  pixel_7_2  pixel_7_3  pixel_7_4  pixel_7_5  \\\n",
       "0        0.0        0.0        6.0       13.0       10.0        0.0   \n",
       "1        0.0        0.0        0.0       11.0       16.0       10.0   \n",
       "2        0.0        0.0        0.0        3.0       11.0       16.0   \n",
       "3        0.0        0.0        7.0       13.0       13.0        9.0   \n",
       "4        0.0        0.0        0.0        2.0       16.0        4.0   \n",
       "\n",
       "   pixel_7_6  pixel_7_7  \n",
       "0        0.0        0.0  \n",
       "1        0.0        0.0  \n",
       "2        9.0        0.0  \n",
       "3        0.0        0.0  \n",
       "4        0.0        0.0  \n",
       "\n",
       "[5 rows x 64 columns]"
      ]
     },
     "execution_count": 2,
     "metadata": {},
     "output_type": "execute_result"
    }
   ],
   "source": [
    "print(imgs.shape, '\\n')\n",
    "imgs.head()"
   ]
  },
  {
   "cell_type": "code",
   "execution_count": 3,
   "id": "6d7334c6",
   "metadata": {},
   "outputs": [
    {
     "data": {
      "image/png": "[encoded data removed]",
      "text/plain": [
       "<Figure size 1224x360 with 8 Axes>"
      ]
     },
     "metadata": {
      "needs_background": "light"
     },
     "output_type": "display_data"
    }
   ],
   "source": [
    "# select 8 images from the data and plot them\n",
    "sample = imgs.iloc[[0,100,200,300,1000,1100,1200,1300],:]\n",
    "sample.reset_index(inplace=True, drop=True)\n",
    "\n",
    "fig, axs = plt.subplots(2, 4, figsize=(17,5))\n",
    "for i, ax in enumerate(axs.flat):\n",
    "    img = sample.iloc[i,:].values.reshape(8,8)\n",
    "    ax.imshow(img, cmap='gray_r')"
   ]
  },
  {
   "cell_type": "markdown",
   "id": "4357a4a2",
   "metadata": {},
   "source": [
    "## Logistic Regression\n",
    "\n",
    "Let us first instantiate a Logistic Regression model to creat a baseline. We are expecting to improve our model's accuracy with the K-Nearest Neighbors algorithm and Neural Networks in the following sections."
   ]
  },
  {
   "cell_type": "code",
   "execution_count": 4,
   "id": "a5a3c7b8",
   "metadata": {},
   "outputs": [
    {
     "name": "stdout",
     "output_type": "stream",
     "text": [
      "Logistic Regression Results:\n",
      "Training Accuracy Score:  1.0\n",
      "Test Accuracy Score:  0.948\n"
     ]
    }
   ],
   "source": [
    "# split the data into train and test sets\n",
    "imgs_target = pd.concat([imgs, target], axis=1)\n",
    "imgs_target = imgs_target.sample(frac=1, random_state=1)\n",
    "train_data = imgs_target.groupby('target').apply(lambda x: x.sample(frac=0.85, random_state=1))\n",
    "train_data = train_data.droplevel('target').sample(frac=1, random_state=1)\n",
    "test_data = imgs_target.loc[~imgs_target.index.isin(train_data.index)]\n",
    "train_data.reset_index(inplace=True, drop=True)\n",
    "test_data.reset_index(inplace=True, drop=True)\n",
    "\n",
    "X_train, y_train = train_data.iloc[:, :-1], train_data.target\n",
    "X_test, y_test = test_data.iloc[:, :-1], test_data.target\n",
    "\n",
    "# perform Logistic Regression to find a baseline\n",
    "lr = LogisticRegression(solver='newton-cg')\n",
    "lr.fit(X_train, y_train)\n",
    "train_preds = lr.predict(X_train)\n",
    "test_preds = lr.predict(X_test)\n",
    "train_acc_score = accuracy_score(y_train, train_preds)\n",
    "test_acc_score = accuracy_score(y_test, test_preds)\n",
    "print('Logistic Regression Results:')\n",
    "print('Training Accuracy Score: ', round(train_acc_score, 3))\n",
    "print('Test Accuracy Score: ', round(test_acc_score, 3))"
   ]
  },
  {
   "cell_type": "markdown",
   "id": "62db663e",
   "metadata": {},
   "source": [
    "## K-Nearest Neighbors algorithm\n",
    "\n",
    "While linear and logistic regression models make assumptions about the linearity between the features and the output labels, the k-nearest neighbors **(KNN)** algorithm make no such assumption. This allows them to capture nonlinearity in the data. If you recall, k-nearest neighbors don't have a specific model representation (hence why it's referred to as an algorithm and not a model).\n",
    "\n",
    "We need to split our data into train and test sets. Then we can instantiate a KNN model and, of course, validate it. It is also very important that we thoroughly shuffle the data to get rid of any patterns that will distract our Neural Network."
   ]
  },
  {
   "cell_type": "code",
   "execution_count": 5,
   "id": "9645b5da",
   "metadata": {},
   "outputs": [],
   "source": [
    "# setup a pipeline of functions for KNN models\n",
    "def train_knn(k, train_features, train_target):\n",
    "    model = KNeighborsClassifier(k)\n",
    "    model.fit(train_features, train_target)\n",
    "    return model\n",
    "def test(model, test_features, test_target):\n",
    "    preds = model.predict(test_features)\n",
    "    return accuracy_score(test_target, preds)\n",
    "def knn_cross_validate(df, target, k, n_splits=10):\n",
    "    train_acc = []\n",
    "    test_acc = []\n",
    "    kf = KFold(n_splits, shuffle=True, random_state=1)\n",
    "    for train_index, test_index in kf.split(df):\n",
    "        train_f, test_f = df.loc[train_index], df.loc[test_index]\n",
    "        train_l, test_l = target.loc[train_index], target.loc[test_index]\n",
    "        model = train_knn(k, train_f, train_l)\n",
    "        train_accuracy = test(model, train_f, train_l)\n",
    "        test_accuracy = test(model, test_f, test_l)\n",
    "        train_acc.append(train_accuracy)\n",
    "        test_acc.append(test_accuracy)\n",
    "    return round(np.mean(train_acc), 3), round(np.mean(test_acc), 3)"
   ]
  },
  {
   "cell_type": "code",
   "execution_count": 6,
   "id": "4c757c3a",
   "metadata": {},
   "outputs": [
    {
     "name": "stdout",
     "output_type": "stream",
     "text": [
      "K-Nearest Neighbors algorithm:\n",
      "Train accuracy: 0.99\n",
      "Test accuracy: 0.988\n"
     ]
    }
   ],
   "source": [
    "# test function pipeline\n",
    "print('K-Nearest Neighbors algorithm:')\n",
    "print('Train accuracy:', knn_cross_validate(imgs, target, 5)[0])\n",
    "print('Test accuracy:', knn_cross_validate(imgs, target, 5)[1])"
   ]
  },
  {
   "cell_type": "code",
   "execution_count": 7,
   "id": "25472ac9",
   "metadata": {},
   "outputs": [
    {
     "data": {
      "image/png": "[encoded data removed]",
      "text/plain": [
       "<Figure size 432x288 with 1 Axes>"
      ]
     },
     "metadata": {
      "needs_background": "light"
     },
     "output_type": "display_data"
    }
   ],
   "source": [
    "# plot different instances of K neighbors\n",
    "K_neighbors = list(range(1,31))\n",
    "train_accuracy_scores = []\n",
    "test_accuracy_scores = []\n",
    "for i in K_neighbors:\n",
    "    train_accuracy_scores.append(knn_cross_validate(imgs, target, i)[0])\n",
    "    test_accuracy_scores.append(knn_cross_validate(imgs, target, i)[1])\n",
    "plt.plot(K_neighbors, train_accuracy_scores, c='blue', label='Train')\n",
    "plt.plot(K_neighbors, test_accuracy_scores, c='orange', label='Test')\n",
    "plt.title('Accuracy per No. of Neighbors')\n",
    "plt.legend()\n",
    "plt.xlabel('No. of Neighbors')\n",
    "plt.ylabel('Accuracy Score')\n",
    "plt.show()"
   ]
  },
  {
   "cell_type": "code",
   "execution_count": 8,
   "id": "3d2bb172",
   "metadata": {},
   "outputs": [
    {
     "data": {
      "image/png": "[encoded data removed]",
      "text/plain": [
       "<Figure size 432x288 with 1 Axes>"
      ]
     },
     "metadata": {
      "needs_background": "light"
     },
     "output_type": "display_data"
    }
   ],
   "source": [
    "# plot different instances of K-Folds\n",
    "K_folds = list(range(2,32))\n",
    "train_accuracy_scores = []\n",
    "test_accuracy_scores = []\n",
    "for i in K_folds:\n",
    "    train_accuracy_scores.append(knn_cross_validate(imgs, target, 5, n_splits=i)[0])\n",
    "    test_accuracy_scores.append(knn_cross_validate(imgs, target, 5, n_splits=i)[1])\n",
    "plt.plot(K_neighbors, train_accuracy_scores, c='blue', label='Train')\n",
    "plt.plot(K_neighbors, test_accuracy_scores, c='orange', label='Test')\n",
    "plt.title('Accuracy per No. of Neighbors')\n",
    "plt.legend()\n",
    "plt.xlabel('No. of K-Folds')\n",
    "plt.ylabel('Accuracy Score')\n",
    "plt.show()"
   ]
  },
  {
   "cell_type": "markdown",
   "id": "4397245d",
   "metadata": {},
   "source": [
    "The last two graphs tell us that we need **5 neighbor groups** and **10-fold cross validation** to obtain the most optimized algorithm.\n",
    "\n",
    "## Limitations of the K-NN algorithm:\n",
    "\n",
    "There are a few downsides to the k-nn algo:\n",
    "\n",
    " - high memory usage\n",
    "    - for each new unseen observation, many comparisons need to be made to seen observations\n",
    " - there isn't a model representation to debug and explore\n",
    "\n",
    "\n",
    "# Neural Networks\n",
    "\n",
    "First, we are going to try a neural network (NN) with a single hidden layer. We'll use the `MLPClassifier` package from sci-kit learn, and we'll start by using 4-fold cross validation. We will train and test a NN with 8, 16, 32, 64, 128, and 256 neurons in that single layer.\n",
    "\n",
    "Next, we'll rank the performance of the models by the overall accuracies. We want to see if these models are overfitting to the train data (perform well on the train set but poorly on the test set)."
   ]
  },
  {
   "cell_type": "code",
   "execution_count": 9,
   "id": "f0e15e3e",
   "metadata": {},
   "outputs": [],
   "source": [
    "# set up a pipeline of functions\n",
    "def perceptron_cross_validate(X, y, \n",
    "          hidden_layer_sizes, activation='relu', \n",
    "          max_iter=1500, n_folds=5, random_state=1):\n",
    "    mlp = MLPClassifier(hidden_layer_sizes,\n",
    "                       activation=activation,\n",
    "                       random_state=random_state,\n",
    "                       max_iter=max_iter)\n",
    "    cross_val_results = cross_validate(mlp, X, y, scoring='accuracy',\n",
    "                                      cv=n_folds, return_train_score=True)\n",
    "    train_acc = np.average(cross_val_results['train_score'])\n",
    "    test_acc = np.average(cross_val_results['test_score'])\n",
    "    \n",
    "    return round(train_acc, 3), round(test_acc, 3)\n",
    "\n",
    "# wrapper\n",
    "def cross_validate_all(X, y, hidden_layers, activation='relu',\n",
    "                      max_iter=1500, n_folds=5, print_progress=True):\n",
    "    train_accuracies = []\n",
    "    test_accuracies = []\n",
    "    \n",
    "    for architecture in hidden_layers:\n",
    "        train_acc, test_acc = perceptron_cross_validate(\n",
    "        X, y, architecture, activation, max_iter, n_folds)\n",
    "        if print_progress:\n",
    "            print(f'{architecture} neurons network: done.')\n",
    "        train_accuracies.append(train_acc)\n",
    "        test_accuracies.append(test_acc)\n",
    "        \n",
    "    results = pd.DataFrame(zip(train_accuracies, test_accuracies),\n",
    "                              index=hidden_layers, columns=['train','test'])\n",
    "    return results\n",
    "\n",
    "def plot_results(results, x_label, y_label, title,\n",
    "                y_lims=(0.87, 1.0), figsize=(8,6)):\n",
    "    fig, ax = plt.subplots(figsize=figsize)\n",
    "    results.plot(kind='bar', ax=ax)\n",
    "    ax.set_ylim(y_lims[0], y_lims[1])\n",
    "    ax.set_xticklabels(labels=ax.get_xticklabels(), rotation=0, fontsize=13)\n",
    "    ax.set_xlabel(x_label, fontsize=14)\n",
    "    ax.set_ylabel(y_label, fontsize=14)\n",
    "    ax.set_title(title, fontsize=15)\n",
    "    ax.set_xticklabels(ax.get_xticklabels(), rotation=30)\n",
    "    ax.grid(axis='y')\n",
    "    plt.tight_layout()\n",
    "    plt.show()\n",
    "    \n",
    "    return None    "
   ]
  },
  {
   "cell_type": "code",
   "execution_count": 10,
   "id": "93e0a27c",
   "metadata": {},
   "outputs": [
    {
     "name": "stdout",
     "output_type": "stream",
     "text": [
      "(2,) neurons network: done.\n",
      "(4,) neurons network: done.\n",
      "(8,) neurons network: done.\n",
      "(16,) neurons network: done.\n",
      "(32,) neurons network: done.\n",
      "(64,) neurons network: done.\n",
      "(128,) neurons network: done.\n",
      "(256,) neurons network: done.\n",
      "(512,) neurons network: done.\n"
     ]
    },
    {
     "data": {
      "text/html": [
       "<div>\n",
       "<style scoped>\n",
       "    .dataframe tbody tr th:only-of-type {\n",
       "        vertical-align: middle;\n",
       "    }\n",
       "\n",
       "    .dataframe tbody tr th {\n",
       "        vertical-align: top;\n",
       "    }\n",
       "\n",
       "    .dataframe thead th {\n",
       "        text-align: right;\n",
       "    }\n",
       "</style>\n",
       "<table border=\"1\" class=\"dataframe\">\n",
       "  <thead>\n",
       "    <tr style=\"text-align: right;\">\n",
       "      <th></th>\n",
       "      <th>train</th>\n",
       "      <th>test</th>\n",
       "    </tr>\n",
       "  </thead>\n",
       "  <tbody>\n",
       "    <tr>\n",
       "      <th>(2,)</th>\n",
       "      <td>0.332</td>\n",
       "      <td>0.289</td>\n",
       "    </tr>\n",
       "    <tr>\n",
       "      <th>(4,)</th>\n",
       "      <td>0.887</td>\n",
       "      <td>0.785</td>\n",
       "    </tr>\n",
       "    <tr>\n",
       "      <th>(8,)</th>\n",
       "      <td>0.998</td>\n",
       "      <td>0.886</td>\n",
       "    </tr>\n",
       "    <tr>\n",
       "      <th>(16,)</th>\n",
       "      <td>1.000</td>\n",
       "      <td>0.917</td>\n",
       "    </tr>\n",
       "    <tr>\n",
       "      <th>(32,)</th>\n",
       "      <td>1.000</td>\n",
       "      <td>0.924</td>\n",
       "    </tr>\n",
       "    <tr>\n",
       "      <th>(64,)</th>\n",
       "      <td>1.000</td>\n",
       "      <td>0.926</td>\n",
       "    </tr>\n",
       "    <tr>\n",
       "      <th>(128,)</th>\n",
       "      <td>1.000</td>\n",
       "      <td>0.942</td>\n",
       "    </tr>\n",
       "    <tr>\n",
       "      <th>(256,)</th>\n",
       "      <td>1.000</td>\n",
       "      <td>0.940</td>\n",
       "    </tr>\n",
       "    <tr>\n",
       "      <th>(512,)</th>\n",
       "      <td>1.000</td>\n",
       "      <td>0.945</td>\n",
       "    </tr>\n",
       "  </tbody>\n",
       "</table>\n",
       "</div>"
      ],
      "text/plain": [
       "        train   test\n",
       "(2,)    0.332  0.289\n",
       "(4,)    0.887  0.785\n",
       "(8,)    0.998  0.886\n",
       "(16,)   1.000  0.917\n",
       "(32,)   1.000  0.924\n",
       "(64,)   1.000  0.926\n",
       "(128,)  1.000  0.942\n",
       "(256,)  1.000  0.940\n",
       "(512,)  1.000  0.945"
      ]
     },
     "execution_count": 10,
     "metadata": {},
     "output_type": "execute_result"
    }
   ],
   "source": [
    "architectures = [(2 ** n, ) for n in range(1, 10)]\n",
    "\n",
    "results_df = cross_validate_all(imgs, target, architectures)\n",
    "results_df"
   ]
  },
  {
   "cell_type": "code",
   "execution_count": 11,
   "id": "8298f69e",
   "metadata": {},
   "outputs": [
    {
     "data": {
      "image/png": "[encoded data removed]",
      "text/plain": [
       "<Figure size 576x432 with 1 Axes>"
      ]
     },
     "metadata": {
      "needs_background": "light"
     },
     "output_type": "display_data"
    }
   ],
   "source": [
    "plot_results(results_df, 'No. of Neurons','Accuracy','Model Validation:\\nNN with one hidden layer')"
   ]
  },
  {
   "cell_type": "markdown",
   "id": "d7d7ddd2",
   "metadata": {},
   "source": [
    "Based on the graph above, we need a minimum of 16 neurons to get good accuracy on our test data. Additionally, our best performers were the NN with 128, 256, and 512 neurons, which is not surprising.\n",
    "\n",
    "The fewer the neurons, the more it appears the model is overfitting. However, from 16 neurons and up the Neural Network is performing very well.\n",
    "\n",
    "## Neural Network with 2 hidden layers\n",
    "\n",
    "So, adding more neurons to a single hidden layer vastly improved the classification accuracy. Let's try using two hidden layers and continue to increase the number of neurons in each layer."
   ]
  },
  {
   "cell_type": "code",
   "execution_count": 12,
   "id": "939fff16",
   "metadata": {},
   "outputs": [
    {
     "name": "stderr",
     "output_type": "stream",
     "text": [
      "/opt/anaconda3/lib/python3.9/site-packages/sklearn/neural_network/_multilayer_perceptron.py:614: ConvergenceWarning: Stochastic Optimizer: Maximum iterations (1500) reached and the optimization hasn't converged yet.\n",
      "  warnings.warn(\n"
     ]
    },
    {
     "name": "stdout",
     "output_type": "stream",
     "text": [
      "(2, 2) neurons network: done.\n",
      "(4, 4) neurons network: done.\n",
      "(8, 8) neurons network: done.\n",
      "(16, 16) neurons network: done.\n",
      "(32, 32) neurons network: done.\n",
      "(64, 64) neurons network: done.\n",
      "(128, 128) neurons network: done.\n",
      "(256, 256) neurons network: done.\n"
     ]
    },
    {
     "data": {
      "text/html": [
       "<div>\n",
       "<style scoped>\n",
       "    .dataframe tbody tr th:only-of-type {\n",
       "        vertical-align: middle;\n",
       "    }\n",
       "\n",
       "    .dataframe tbody tr th {\n",
       "        vertical-align: top;\n",
       "    }\n",
       "\n",
       "    .dataframe thead th {\n",
       "        text-align: right;\n",
       "    }\n",
       "</style>\n",
       "<table border=\"1\" class=\"dataframe\">\n",
       "  <thead>\n",
       "    <tr style=\"text-align: right;\">\n",
       "      <th></th>\n",
       "      <th>train</th>\n",
       "      <th>test</th>\n",
       "    </tr>\n",
       "  </thead>\n",
       "  <tbody>\n",
       "    <tr>\n",
       "      <th>(2, 2)</th>\n",
       "      <td>0.590</td>\n",
       "      <td>0.525</td>\n",
       "    </tr>\n",
       "    <tr>\n",
       "      <th>(4, 4)</th>\n",
       "      <td>0.814</td>\n",
       "      <td>0.707</td>\n",
       "    </tr>\n",
       "    <tr>\n",
       "      <th>(8, 8)</th>\n",
       "      <td>1.000</td>\n",
       "      <td>0.892</td>\n",
       "    </tr>\n",
       "    <tr>\n",
       "      <th>(16, 16)</th>\n",
       "      <td>1.000</td>\n",
       "      <td>0.912</td>\n",
       "    </tr>\n",
       "    <tr>\n",
       "      <th>(32, 32)</th>\n",
       "      <td>1.000</td>\n",
       "      <td>0.922</td>\n",
       "    </tr>\n",
       "    <tr>\n",
       "      <th>(64, 64)</th>\n",
       "      <td>1.000</td>\n",
       "      <td>0.934</td>\n",
       "    </tr>\n",
       "    <tr>\n",
       "      <th>(128, 128)</th>\n",
       "      <td>1.000</td>\n",
       "      <td>0.951</td>\n",
       "    </tr>\n",
       "    <tr>\n",
       "      <th>(256, 256)</th>\n",
       "      <td>1.000</td>\n",
       "      <td>0.952</td>\n",
       "    </tr>\n",
       "  </tbody>\n",
       "</table>\n",
       "</div>"
      ],
      "text/plain": [
       "            train   test\n",
       "(2, 2)      0.590  0.525\n",
       "(4, 4)      0.814  0.707\n",
       "(8, 8)      1.000  0.892\n",
       "(16, 16)    1.000  0.912\n",
       "(32, 32)    1.000  0.922\n",
       "(64, 64)    1.000  0.934\n",
       "(128, 128)  1.000  0.951\n",
       "(256, 256)  1.000  0.952"
      ]
     },
     "execution_count": 12,
     "metadata": {},
     "output_type": "execute_result"
    }
   ],
   "source": [
    "arch_2 = [(2 ** n, 2 ** n) for n in range(1, 9)]\n",
    "\n",
    "results_df2 = cross_validate_all(imgs, target, arch_2)\n",
    "results_df2"
   ]
  },
  {
   "cell_type": "code",
   "execution_count": 13,
   "id": "a39d0fbb",
   "metadata": {},
   "outputs": [
    {
     "data": {
      "image/png": "[encoded data removed]",
      "text/plain": [
       "<Figure size 576x432 with 1 Axes>"
      ]
     },
     "metadata": {
      "needs_background": "light"
     },
     "output_type": "display_data"
    }
   ],
   "source": [
    "plot_results(results_df2, 'No. of Neurons','Accuracy','Model Validation\\nNN with two hidden layers')"
   ]
  },
  {
   "cell_type": "markdown",
   "id": "cfa8f3ae",
   "metadata": {},
   "source": [
    "My hypothesis was that adding a second layer to the NN would improve it's accuracy, however it is objectively less accurate. \n",
    "\n",
    "We received an error during while creating `results_df2`:\n",
    "\n",
    "`Stochastic Optimizer: Maximum iterations (1500) reached and the optimization hasn't converged yet.`\n",
    "\n",
    "This tells us that optimization did not converge, which means that with more iterations we could potentially get higher accuracy. It already took a while for this NN to run, so for efficiency reasons we will move on for now.\n",
    "\n",
    "## Adding more layers\n",
    "\n",
    "Using more hidden layers is known to increase the amount of overfitting that happens. To help us prevent overfitting, let's increase the number of folds we use for k-fold cross validation to 6 while testing networks with 3 hidden layers of 10 neurons each. Then we will do the same with 64 neurons each, then 128 each."
   ]
  },
  {
   "cell_type": "code",
   "execution_count": 14,
   "id": "543cbb99",
   "metadata": {},
   "outputs": [
    {
     "name": "stdout",
     "output_type": "stream",
     "text": [
      "(10, 10, 10) neurons network: done.\n",
      "(64, 64, 64) neurons network: done.\n",
      "(128, 128, 128) neurons network: done.\n"
     ]
    },
    {
     "data": {
      "text/html": [
       "<div>\n",
       "<style scoped>\n",
       "    .dataframe tbody tr th:only-of-type {\n",
       "        vertical-align: middle;\n",
       "    }\n",
       "\n",
       "    .dataframe tbody tr th {\n",
       "        vertical-align: top;\n",
       "    }\n",
       "\n",
       "    .dataframe thead th {\n",
       "        text-align: right;\n",
       "    }\n",
       "</style>\n",
       "<table border=\"1\" class=\"dataframe\">\n",
       "  <thead>\n",
       "    <tr style=\"text-align: right;\">\n",
       "      <th></th>\n",
       "      <th>train</th>\n",
       "      <th>test</th>\n",
       "    </tr>\n",
       "  </thead>\n",
       "  <tbody>\n",
       "    <tr>\n",
       "      <th>(10, 10, 10)</th>\n",
       "      <td>1.0</td>\n",
       "      <td>0.917</td>\n",
       "    </tr>\n",
       "    <tr>\n",
       "      <th>(64, 64, 64)</th>\n",
       "      <td>1.0</td>\n",
       "      <td>0.954</td>\n",
       "    </tr>\n",
       "    <tr>\n",
       "      <th>(128, 128, 128)</th>\n",
       "      <td>1.0</td>\n",
       "      <td>0.955</td>\n",
       "    </tr>\n",
       "  </tbody>\n",
       "</table>\n",
       "</div>"
      ],
      "text/plain": [
       "                 train   test\n",
       "(10, 10, 10)       1.0  0.917\n",
       "(64, 64, 64)       1.0  0.954\n",
       "(128, 128, 128)    1.0  0.955"
      ]
     },
     "execution_count": 14,
     "metadata": {},
     "output_type": "execute_result"
    }
   ],
   "source": [
    "arch_3 = [(10,10,10),\n",
    "         (64,64,64),\n",
    "         (128,128,128)]\n",
    "\n",
    "results_df3 = cross_validate_all(imgs, target, arch_3, n_folds=6)\n",
    "results_df3"
   ]
  },
  {
   "cell_type": "code",
   "execution_count": 16,
   "id": "e948ed8e",
   "metadata": {},
   "outputs": [
    {
     "data": {
      "image/png": "[encoded data removed]",
      "text/plain": [
       "<Figure size 576x432 with 1 Axes>"
      ]
     },
     "metadata": {
      "needs_background": "light"
     },
     "output_type": "display_data"
    }
   ],
   "source": [
    "plot_results(results_df3, 'No. of Neurons','Accuracy','Model Validation\\nNN with three hidden layers')"
   ]
  },
  {
   "cell_type": "markdown",
   "id": "51623c8f",
   "metadata": {},
   "source": [
    "Having three hidden layers slightly improved our model's performance over two hidden layers, but the single-layer high-neuron-count NN still performed better. \n",
    "\n",
    "# Conclusion\n",
    "\n",
    "None of the Neural Networks performed as accurately as the k-Nearest Neighbors algorithm, which was a big surprise to me. Therefore, we can say that the use of a multi-layer perceptron is not justified with this dataset. Neural Networks work better with larger datasets because they have more information to go off of. Our dataset is most likely too small to see a drastic increase in accuracy from simpler models up to NNs.\n",
    "\n",
    "## Potential next steps\n",
    "\n",
    "We could also test different types of models such as Decision Trees and Random Forest Models.\n",
    "\n",
    "We could also experiment with different activation functions to see if the accuracies improve.\n",
    "\n",
    "Furthermore, we could research some techniques for visualizing weights in neural network models and add a visualization step to our pipeline."
   ]
  }
 ],
 "metadata": {
  "kernelspec": {
   "display_name": "Python 3 (ipykernel)",
   "language": "python",
   "name": "python3"
  },
  "language_info": {
   "codemirror_mode": {
    "name": "ipython",
    "version": 3
   },
   "file_extension": ".py",
   "mimetype": "text/x-python",
   "name": "python",
   "nbconvert_exporter": "python",
   "pygments_lexer": "ipython3",
   "version": "3.9.7"
  }
 },
 "nbformat": 4,
 "nbformat_minor": 5
}
